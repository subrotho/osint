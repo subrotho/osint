{
 "cells": [
  {
   "cell_type": "code",
   "execution_count": 9,
   "metadata": {},
   "outputs": [],
   "source": [
    "import requests\n",
    "from bs4 import BeautifulSoup"
   ]
  },
  {
   "cell_type": "code",
   "execution_count": 10,
   "metadata": {},
   "outputs": [],
   "source": [
    "import pandas as pd"
   ]
  },
  {
   "cell_type": "markdown",
   "metadata": {},
   "source": [
    "#https://towardsdatascience.com/web-scraping-news-articles-in-python-9dd605799558\n",
    "#https://towardsdatascience.com/text-classification-in-python-dd95d264c802\n",
    "#https://github.com/miguelfzafra/Latest-News-Classifier\n",
    "#https://www.crummy.com/software/BeautifulSoup/bs4/doc/"
   ]
  },
  {
   "cell_type": "code",
   "execution_count": 11,
   "metadata": {},
   "outputs": [],
   "source": [
    "r1 = requests.get(\"https://www.aljazeera.com/\")\n",
    "coverpage = r1.content"
   ]
  },
  {
   "cell_type": "code",
   "execution_count": 21,
   "metadata": {},
   "outputs": [],
   "source": [
    "soup1 = BeautifulSoup(coverpage, 'html5lib')"
   ]
  },
  {
   "cell_type": "code",
   "execution_count": 25,
   "metadata": {},
   "outputs": [],
   "source": [
    "coverpage_news = soup1.find_all('h1', class_=\"top-sec-title\")"
   ]
  },
  {
   "cell_type": "code",
   "execution_count": 26,
   "metadata": {},
   "outputs": [
    {
     "data": {
      "text/plain": [
       "[<h1 class=\"top-sec-title\">West African mediators arrive in Mali to push for coup reversal</h1>]"
      ]
     },
     "execution_count": 26,
     "metadata": {},
     "output_type": "execute_result"
    }
   ],
   "source": [
    "coverpage_news"
   ]
  },
  {
   "cell_type": "code",
   "execution_count": 29,
   "metadata": {},
   "outputs": [],
   "source": [
    "coverpage_news1 = soup1.find_all('p', class_=\"top-sec-desc\")"
   ]
  },
  {
   "cell_type": "code",
   "execution_count": 30,
   "metadata": {
    "scrolled": true
   },
   "outputs": [
    {
     "data": {
      "text/plain": [
       "[<p class=\"top-sec-desc\">ECOWAS delegation visiting Bamako to meet military coup leaders as well as overthrown President Ibrahim Boubacar Keita.</p>]"
      ]
     },
     "execution_count": 30,
     "metadata": {},
     "output_type": "execute_result"
    }
   ],
   "source": [
    "coverpage_news1"
   ]
  },
  {
   "cell_type": "code",
   "execution_count": 32,
   "metadata": {},
   "outputs": [],
   "source": [
    "coverpage_news5 = soup1.find_all('h1', class_=\"ep4-title\")"
   ]
  },
  {
   "cell_type": "code",
   "execution_count": 33,
   "metadata": {},
   "outputs": [
    {
     "data": {
      "text/plain": [
       "[<h1 class=\"ep4-title\"><a href=\"/news/2020/08/turkey-hosts-unique-cross-continental-swimming-race-200822144657370.html\" onclick=\"sendGAEvent('Home - Editors Pick', 'click' ,'/news/2020/08/turkey-hosts-unique-cross-continental-swimming-race-200822144657370.html');\">Turkey hosts unique cross-continental swimming race</a></h1>,\n",
       " <h1 class=\"ep4-title\"><a href=\"/news/2020/08/gaza-incendiary-balloons-distress-signals-200821121238833.html\" onclick=\"sendGAEvent('Home - Editors Pick', 'click' ,'/news/2020/08/gaza-incendiary-balloons-distress-signals-200821121238833.html');\">Gaza 'Lightning Unit' targets Israel with fire balloons</a></h1>,\n",
       " <h1 class=\"ep4-title\"><a href=\"/programmes/talktojazeera/inthefield/2020/08/qatar-nature-development-crossroads-200820125443571.html\" onclick=\"sendGAEvent('Home - Editors Pick', 'click' ,'/programmes/talktojazeera/inthefield/2020/08/qatar-nature-development-crossroads-200820125443571.html');\">Qatar: Nature and development at a crossroads</a></h1>,\n",
       " <h1 class=\"ep4-title\"><a href=\"/news/2020/08/fadi-sawan-man-leading-beirut-explosion-investigation-200821061750823.html\" onclick=\"sendGAEvent('Home - Editors Pick', 'click' ,'/news/2020/08/fadi-sawan-man-leading-beirut-explosion-investigation-200821061750823.html');\">Fadi Sawan: The man leading the Beirut explosion investigation</a></h1>]"
      ]
     },
     "execution_count": 33,
     "metadata": {},
     "output_type": "execute_result"
    }
   ],
   "source": [
    "coverpage_news5"
   ]
  },
  {
   "cell_type": "code",
   "execution_count": 36,
   "metadata": {},
   "outputs": [
    {
     "data": {
      "text/plain": [
       "'Turkey hosts unique cross-continental swimming race'"
      ]
     },
     "execution_count": 36,
     "metadata": {},
     "output_type": "execute_result"
    }
   ],
   "source": [
    "coverpage_news5[0].get_text()"
   ]
  },
  {
   "cell_type": "code",
   "execution_count": 37,
   "metadata": {},
   "outputs": [
    {
     "data": {
      "text/plain": [
       "\"Gaza 'Lightning Unit' targets Israel with fire balloons\""
      ]
     },
     "execution_count": 37,
     "metadata": {},
     "output_type": "execute_result"
    }
   ],
   "source": [
    "coverpage_news5[1].get_text()"
   ]
  },
  {
   "cell_type": "code",
   "execution_count": 38,
   "metadata": {},
   "outputs": [
    {
     "data": {
      "text/plain": [
       "'Qatar: Nature and development at a crossroads'"
      ]
     },
     "execution_count": 38,
     "metadata": {},
     "output_type": "execute_result"
    }
   ],
   "source": [
    "coverpage_news5[2].get_text()"
   ]
  },
  {
   "cell_type": "code",
   "execution_count": 39,
   "metadata": {},
   "outputs": [
    {
     "data": {
      "text/plain": [
       "'Fadi Sawan: The man leading the Beirut explosion investigation'"
      ]
     },
     "execution_count": 39,
     "metadata": {},
     "output_type": "execute_result"
    }
   ],
   "source": [
    "coverpage_news5[3].get_text()"
   ]
  },
  {
   "cell_type": "code",
   "execution_count": 49,
   "metadata": {
    "scrolled": true
   },
   "outputs": [
    {
     "ename": "KeyError",
     "evalue": "'href'",
     "output_type": "error",
     "traceback": [
      "\u001b[1;31m---------------------------------------------------------------------------\u001b[0m",
      "\u001b[1;31mKeyError\u001b[0m                                  Traceback (most recent call last)",
      "\u001b[1;32m<ipython-input-49-b5119c6e3261>\u001b[0m in \u001b[0;36m<module>\u001b[1;34m\u001b[0m\n\u001b[1;32m----> 1\u001b[1;33m \u001b[0mcoverpage_news5\u001b[0m\u001b[1;33m[\u001b[0m\u001b[1;36m1\u001b[0m\u001b[1;33m]\u001b[0m\u001b[1;33m[\u001b[0m\u001b[1;34m'href'\u001b[0m\u001b[1;33m]\u001b[0m\u001b[1;33m\u001b[0m\u001b[1;33m\u001b[0m\u001b[0m\n\u001b[0m",
      "\u001b[1;32m~\\anaconda3\\lib\\site-packages\\bs4\\element.py\u001b[0m in \u001b[0;36m__getitem__\u001b[1;34m(self, key)\u001b[0m\n\u001b[0;32m   1399\u001b[0m         \"\"\"tag[key] returns the value of the 'key' attribute for the Tag,\n\u001b[0;32m   1400\u001b[0m         and throws an exception if it's not there.\"\"\"\n\u001b[1;32m-> 1401\u001b[1;33m         \u001b[1;32mreturn\u001b[0m \u001b[0mself\u001b[0m\u001b[1;33m.\u001b[0m\u001b[0mattrs\u001b[0m\u001b[1;33m[\u001b[0m\u001b[0mkey\u001b[0m\u001b[1;33m]\u001b[0m\u001b[1;33m\u001b[0m\u001b[1;33m\u001b[0m\u001b[0m\n\u001b[0m\u001b[0;32m   1402\u001b[0m \u001b[1;33m\u001b[0m\u001b[0m\n\u001b[0;32m   1403\u001b[0m     \u001b[1;32mdef\u001b[0m \u001b[0m__iter__\u001b[0m\u001b[1;33m(\u001b[0m\u001b[0mself\u001b[0m\u001b[1;33m)\u001b[0m\u001b[1;33m:\u001b[0m\u001b[1;33m\u001b[0m\u001b[1;33m\u001b[0m\u001b[0m\n",
      "\u001b[1;31mKeyError\u001b[0m: 'href'"
     ]
    }
   ],
   "source": [
    "coverpage_news5[1]['href']"
   ]
  },
  {
   "cell_type": "code",
   "execution_count": 61,
   "metadata": {},
   "outputs": [],
   "source": [
    "# Scraping the first 5 articles\n",
    "number_of_articles = 4\n",
    "# Empty lists for content, links and titles\n",
    "news_contents = []\n",
    "list_links = []\n",
    "list_titles = []"
   ]
  },
  {
   "cell_type": "code",
   "execution_count": 62,
   "metadata": {},
   "outputs": [],
   "source": [
    "import numpy as np"
   ]
  },
  {
   "cell_type": "code",
   "execution_count": 63,
   "metadata": {},
   "outputs": [],
   "source": [
    "for n in np.arange(0, number_of_articles):\n",
    "    title = coverpage_news[n].find('a').get_text()\n",
    "    list_titles.append(title)"
   ]
  },
  {
   "cell_type": "code",
   "execution_count": 64,
   "metadata": {
    "scrolled": true
   },
   "outputs": [
    {
     "data": {
      "text/plain": [
       "['Turkey hosts unique cross-continental swimming race',\n",
       " \"Gaza 'Lightning Unit' targets Israel with fire balloons\",\n",
       " 'Qatar: Nature and development at a crossroads',\n",
       " 'Fadi Sawan: The man leading the Beirut explosion investigation']"
      ]
     },
     "execution_count": 64,
     "metadata": {},
     "output_type": "execute_result"
    }
   ],
   "source": [
    "list_titles"
   ]
  },
  {
   "cell_type": "code",
   "execution_count": 65,
   "metadata": {},
   "outputs": [],
   "source": [
    "    link = coverpage_news[n].find('a')['href']\n",
    "    list_links.append(link)"
   ]
  },
  {
   "cell_type": "code",
   "execution_count": 66,
   "metadata": {
    "scrolled": true
   },
   "outputs": [
    {
     "data": {
      "text/plain": [
       "['/news/2020/08/fadi-sawan-man-leading-beirut-explosion-investigation-200821061750823.html']"
      ]
     },
     "execution_count": 66,
     "metadata": {},
     "output_type": "execute_result"
    }
   ],
   "source": [
    "list_links"
   ]
  },
  {
   "cell_type": "code",
   "execution_count": 71,
   "metadata": {
    "scrolled": true
   },
   "outputs": [
    {
     "ename": "AttributeError",
     "evalue": "'NoneType' object has no attribute 'get_text'",
     "output_type": "error",
     "traceback": [
      "\u001b[1;31m---------------------------------------------------------------------------\u001b[0m",
      "\u001b[1;31mAttributeError\u001b[0m                            Traceback (most recent call last)",
      "\u001b[1;32m<ipython-input-71-ba96b04524af>\u001b[0m in \u001b[0;36m<module>\u001b[1;34m\u001b[0m\n\u001b[0;32m      1\u001b[0m \u001b[1;32mfor\u001b[0m \u001b[0mn\u001b[0m \u001b[1;32min\u001b[0m \u001b[0mnp\u001b[0m\u001b[1;33m.\u001b[0m\u001b[0marange\u001b[0m\u001b[1;33m(\u001b[0m\u001b[1;36m0\u001b[0m\u001b[1;33m,\u001b[0m \u001b[0mnumber_of_articles\u001b[0m\u001b[1;33m)\u001b[0m\u001b[1;33m:\u001b[0m\u001b[1;33m\u001b[0m\u001b[1;33m\u001b[0m\u001b[0m\n\u001b[1;32m----> 2\u001b[1;33m     \u001b[0mtitle\u001b[0m \u001b[1;33m=\u001b[0m \u001b[0mcoverpage_news\u001b[0m\u001b[1;33m[\u001b[0m\u001b[0mn\u001b[0m\u001b[1;33m]\u001b[0m\u001b[1;33m.\u001b[0m\u001b[0mfind\u001b[0m\u001b[1;33m(\u001b[0m\u001b[1;34m'p'\u001b[0m\u001b[1;33m)\u001b[0m\u001b[1;33m.\u001b[0m\u001b[0mget_text\u001b[0m\u001b[1;33m(\u001b[0m\u001b[1;33m)\u001b[0m\u001b[1;33m\u001b[0m\u001b[1;33m\u001b[0m\u001b[0m\n\u001b[0m\u001b[0;32m      3\u001b[0m     \u001b[0mlist_titles\u001b[0m\u001b[1;33m.\u001b[0m\u001b[0mappend\u001b[0m\u001b[1;33m(\u001b[0m\u001b[0mtitle\u001b[0m\u001b[1;33m)\u001b[0m\u001b[1;33m\u001b[0m\u001b[1;33m\u001b[0m\u001b[0m\n",
      "\u001b[1;31mAttributeError\u001b[0m: 'NoneType' object has no attribute 'get_text'"
     ]
    }
   ],
   "source": [
    "for n in np.arange(0, number_of_articles):\n",
    "    title = coverpage_news[n].find('p').get_text()\n",
    "    list_titles.append(title)"
   ]
  },
  {
   "cell_type": "code",
   "execution_count": 76,
   "metadata": {},
   "outputs": [],
   "source": [
    "bend = soup1.find_all('p', class_=\"ep4-description\")"
   ]
  },
  {
   "cell_type": "code",
   "execution_count": 77,
   "metadata": {},
   "outputs": [
    {
     "data": {
      "text/plain": [
       "[<p class=\"ep4-description\">Thousands of swimmers to take part amid coronavirus restrictions in world's only inter-continental open water contest.</p>,\n",
       " <p class=\"ep4-description\">Group floating incendiary balloons into Israel says it's a form of pressure on Israel to lift devastating Gaza blockade.</p>,\n",
       " <p class=\"ep4-description\">A journey into Qatar's unexplored wildlife and the effect megaprojects could have on its natural habitats.</p>,\n",
       " <p class=\"ep4-description\">Fadi Sawan's past points to his proximity to security forces and deference to political intervention.</p>]"
      ]
     },
     "execution_count": 77,
     "metadata": {},
     "output_type": "execute_result"
    }
   ],
   "source": [
    "bend"
   ]
  },
  {
   "cell_type": "code",
   "execution_count": 78,
   "metadata": {},
   "outputs": [
    {
     "data": {
      "text/plain": [
       "\"Group floating incendiary balloons into Israel says it's a form of pressure on Israel to lift devastating Gaza blockade.\""
      ]
     },
     "execution_count": 78,
     "metadata": {},
     "output_type": "execute_result"
    }
   ],
   "source": [
    "bend[1].get_text()"
   ]
  },
  {
   "cell_type": "code",
   "execution_count": null,
   "metadata": {},
   "outputs": [],
   "source": []
  },
  {
   "cell_type": "code",
   "execution_count": null,
   "metadata": {},
   "outputs": [],
   "source": []
  },
  {
   "cell_type": "code",
   "execution_count": null,
   "metadata": {},
   "outputs": [],
   "source": []
  },
  {
   "cell_type": "code",
   "execution_count": null,
   "metadata": {},
   "outputs": [],
   "source": []
  },
  {
   "cell_type": "code",
   "execution_count": null,
   "metadata": {},
   "outputs": [],
   "source": []
  },
  {
   "cell_type": "code",
   "execution_count": 75,
   "metadata": {},
   "outputs": [
    {
     "ename": "TypeError",
     "evalue": "'NoneType' object is not subscriptable",
     "output_type": "error",
     "traceback": [
      "\u001b[1;31m---------------------------------------------------------------------------\u001b[0m",
      "\u001b[1;31mTypeError\u001b[0m                                 Traceback (most recent call last)",
      "\u001b[1;32m<ipython-input-75-76f48af93292>\u001b[0m in \u001b[0;36m<module>\u001b[1;34m\u001b[0m\n\u001b[0;32m      1\u001b[0m \u001b[1;32mfor\u001b[0m \u001b[0mn\u001b[0m \u001b[1;32min\u001b[0m \u001b[0mnp\u001b[0m\u001b[1;33m.\u001b[0m\u001b[0marange\u001b[0m\u001b[1;33m(\u001b[0m\u001b[1;36m0\u001b[0m\u001b[1;33m,\u001b[0m \u001b[0mnumber_of_articles\u001b[0m\u001b[1;33m)\u001b[0m\u001b[1;33m:\u001b[0m\u001b[1;33m\u001b[0m\u001b[1;33m\u001b[0m\u001b[0m\n\u001b[1;32m----> 2\u001b[1;33m     \u001b[0mtitle\u001b[0m \u001b[1;33m=\u001b[0m \u001b[0mnews_list\u001b[0m\u001b[1;33m[\u001b[0m\u001b[0mn\u001b[0m\u001b[1;33m]\u001b[0m\u001b[1;33m.\u001b[0m\u001b[0mfind\u001b[0m\u001b[1;33m(\u001b[0m\u001b[1;34m'a'\u001b[0m\u001b[1;33m)\u001b[0m\u001b[1;33m[\u001b[0m\u001b[1;34m'href'\u001b[0m\u001b[1;33m]\u001b[0m\u001b[1;33m\u001b[0m\u001b[1;33m\u001b[0m\u001b[0m\n\u001b[0m\u001b[0;32m      3\u001b[0m     \u001b[0mlist_titles\u001b[0m\u001b[1;33m.\u001b[0m\u001b[0mappend\u001b[0m\u001b[1;33m(\u001b[0m\u001b[0mtitle\u001b[0m\u001b[1;33m)\u001b[0m\u001b[1;33m\u001b[0m\u001b[1;33m\u001b[0m\u001b[0m\n",
      "\u001b[1;31mTypeError\u001b[0m: 'NoneType' object is not subscriptable"
     ]
    }
   ],
   "source": [
    "for n in np.arange(0, number_of_articles):\n",
    "    title = news_list[n].find('a')['href']\n",
    "    list_titles.append(title)"
   ]
  },
  {
   "cell_type": "code",
   "execution_count": null,
   "metadata": {},
   "outputs": [],
   "source": []
  },
  {
   "cell_type": "code",
   "execution_count": null,
   "metadata": {},
   "outputs": [],
   "source": []
  },
  {
   "cell_type": "code",
   "execution_count": 73,
   "metadata": {},
   "outputs": [],
   "source": [
    "news_list =soup1.find_all(['h1', 'h2'])"
   ]
  },
  {
   "cell_type": "code",
   "execution_count": 44,
   "metadata": {
    "scrolled": true
   },
   "outputs": [
    {
     "name": "stdout",
     "output_type": "stream",
     "text": [
      "[<h1><a class=\"queen-top-sec-title\" href=\"/news/2020/08/200822013536155.html\" onclick=\"\n",
      "                        sendGAEvent('Home - Top News QID', 'click', '/news/2020/08/200822013536155.html');\n",
      "                      \">Global coronavirus death toll hits 800,000: Live news</a></h1>, <h2 class=\"queen-btm-story-title\">WHO chief: 'Hope to finish this pandemic in less than two years'</h2>, <h2 class=\"queen-btm-story-title\">Borrowing binge: UK debt tops 2 trillion pounds for first time</h2>, <h2 class=\"queen-btm-story-title\">As US deaths mount, coronavirus takes outsized toll on minorities</h2>, <h1 class=\"top-sec-title\">West African mediators arrive in Mali to push for coup reversal</h1>, <h2 class=\"top-sec-smalltitle\">Alexei Navalny's health condition 'very worrying'</h2>, <h2 class=\"top-sec-smalltitle\">A new exodus from Lebanon after deadly Beirut blast</h2>, <h2 class=\"indepth-inner-title\">Peru economy: COVID-19 puts millions of people out of work</h2>, <h2 class=\"indepth-inner-title\">As US deaths mount, coronavirus takes outsized toll on minorities</h2>, <h2 class=\"indepth-inner-title\">Coronavirus: What did they get wrong? | Start Here</h2>, <h2 class=\"indepth-inner-title\">WHO chief: 'Hope to finish this pandemic in less than two years'</h2>, <h1>EDITOR'S PICKS</h1>, <h1 class=\"ep4-title\"><a href=\"/news/2020/08/turkey-hosts-unique-cross-continental-swimming-race-200822144657370.html\" onclick=\"sendGAEvent('Home - Editors Pick', 'click' ,'/news/2020/08/turkey-hosts-unique-cross-continental-swimming-race-200822144657370.html');\">Turkey hosts unique cross-continental swimming race</a></h1>, <h1 class=\"ep4-title\"><a href=\"/news/2020/08/gaza-incendiary-balloons-distress-signals-200821121238833.html\" onclick=\"sendGAEvent('Home - Editors Pick', 'click' ,'/news/2020/08/gaza-incendiary-balloons-distress-signals-200821121238833.html');\">Gaza 'Lightning Unit' targets Israel with fire balloons</a></h1>, <h1 class=\"ep4-title\"><a href=\"/programmes/talktojazeera/inthefield/2020/08/qatar-nature-development-crossroads-200820125443571.html\" onclick=\"sendGAEvent('Home - Editors Pick', 'click' ,'/programmes/talktojazeera/inthefield/2020/08/qatar-nature-development-crossroads-200820125443571.html');\">Qatar: Nature and development at a crossroads</a></h1>, <h1 class=\"ep4-title\"><a href=\"/news/2020/08/fadi-sawan-man-leading-beirut-explosion-investigation-200821061750823.html\" onclick=\"sendGAEvent('Home - Editors Pick', 'click' ,'/news/2020/08/fadi-sawan-man-leading-beirut-explosion-investigation-200821061750823.html');\">Fadi Sawan: The man leading the Beirut explosion investigation</a></h1>, <h1><a href=\"/news/\">MORE TOP STORIES</a></h1>, <h1 class=\"mts-article-title\"><a href=\"/news/2020/08/israel-targeted-hamas-posts-gaza-rocket-fired-200822083944443.html\" onclick=\"sendGAEvent('Home - More Top News', 'click' ,'/news/2020/08/israel-targeted-hamas-posts-gaza-rocket-fired-200822083944443.html');\">Israel says it targeted Hamas posts in Gaza after rocket fired</a></h1>, <h1 class=\"mts-article-title\"><a href=\"/news/2020/08/coast-president-ouattara-formally-picked-run-term-200822135734131.html\" onclick=\"sendGAEvent('Home - More Top News', 'click' ,'/news/2020/08/coast-president-ouattara-formally-picked-run-term-200822135734131.html');\">I Coast President Ouattara formally picked to run for third term</a></h1>, <h1 class=\"mts-article-title\"><a href=\"/news/2020/08/belarus-tsikhanouskaya-calls-anti-lukashenko-protests-200822063848313.html\" onclick=\"sendGAEvent('Home - More Top News', 'click' ,'/news/2020/08/belarus-tsikhanouskaya-calls-anti-lukashenko-protests-200822063848313.html');\">Belarus: Tikhanovskaya calls for more anti-Lukashenko protests </a></h1>, <h1 class=\"mts-article-title\"><a href=\"/news/2020/08/giant-panda-born-offers-needed-moment-joy-200822142353253.html\" onclick=\"sendGAEvent('Home - More Top News', 'click' ,'/news/2020/08/giant-panda-born-offers-needed-moment-joy-200822142353253.html');\">Giant panda born in US offers 'much-needed moment of joy'</a></h1>, <h1 class=\"mts-article-title\"><a href=\"/news/2020/08/afghanistan-14-security-forces-killed-attacks-200822111402959.html\" onclick=\"sendGAEvent('Home - More Top News', 'click' ,'/news/2020/08/afghanistan-14-security-forces-killed-attacks-200822111402959.html');\">Afghanistan: At least 14 security forces killed in three attacks</a></h1>, <h1 class=\"mts-article-title\"><a href=\"/news/2020/08/security-council-members-oppose-bid-iran-sanctions-200821223144049.html\" onclick=\"sendGAEvent('Home - More Top News', 'click' ,'/news/2020/08/security-council-members-oppose-bid-iran-sanctions-200821223144049.html');\">Most UN Security Council members oppose US bid for Iran sanctions</a></h1>, <h2><a href=\"/podcasts/thetake/2020/08/social-justice-power-pop-bts-200821153757490.html\" onclick=\"sendGAEvent('Home - Podcast Widget Narrow', 'click' ,'/podcasts/thetake/2020/08/social-justice-power-pop-bts-200821153757490.html');\">The social justice power of K-pop's BTS</a></h2>, <h1>TRENDING</h1>, <h1><a href=\"/ajimpact/\">AJ Impact</a></h1>, <h1 class=\"ejeconomy-wide-title\"><a href=\"/ajimpact/eviction-life-sentence-200820192703034.html\" onclick=\"sendGAEvent('Home - Editors Pick', 'click' ,'/ajimpact/eviction-life-sentence-200820192703034.html');\">'Scarlet E': An eviction in the US can become a life sentence</a></h1>, <h1 class=\"ejeconomy-wide-title\"><a href=\"/ajimpact/actress-lori-loughlin-husband-months-prison-200821153306512.html\" onclick=\"sendGAEvent('Home - Editors Pick', 'click' ,'/ajimpact/actress-lori-loughlin-husband-months-prison-200821153306512.html');\">Lori Loughlin gets 2 months in prison, her husband gets 5 months</a></h1>, <h1 class=\"ejeconomy-wide-title\"><a href=\"/ajimpact/apple-fortnite-maker-wanted-epic-games-store-app-store-200821204714605.html\" onclick=\"sendGAEvent('Home - Editors Pick', 'click' ,'/ajimpact/apple-fortnite-maker-wanted-epic-games-store-app-store-200821204714605.html');\">Apple says Fortnite maker wanted 'Epic Games Store' in App Store</a></h1>, <h1 class=\"ejeconomy-wide-title\"><a href=\"/ajimpact/turkey-tells-airlines-sacking-foreigners-200821184909710.html\" onclick=\"sendGAEvent('Home - Editors Pick', 'click' ,'/ajimpact/turkey-tells-airlines-sacking-foreigners-200821184909710.html');\">Turkey tells airlines to think about sacking foreigners first</a></h1>, <h2 class=\"indepth-inner-title\">Too many goodbyes: The pain and hope of loving an addict</h2>, <h2 class=\"indepth-inner-title\">How disabled Americans are harmed by a system meant to help them</h2>, <h2 class=\"indepth-inner-title\">The land that I forgot: From Algeria to the US, a story of family</h2>, <h2 class=\"indepth-inner-title\">Seven attempts: What it takes to leave an abuser</h2>, <h2 class=\"Video-title\">VIDEO</h2>, <h2 class=\"sp-cap-feature\"><a></a></h2>]\n"
     ]
    }
   ],
   "source": [
    "print(news_list)"
   ]
  },
  {
   "cell_type": "code",
   "execution_count": 50,
   "metadata": {},
   "outputs": [],
   "source": [
    "# Scraping the first 5 articles\n",
    "number_of_articles = 5\n",
    "# Empty lists for content, links and titles\n",
    "news_contents = []\n",
    "list_links = []\n",
    "list_titles = []"
   ]
  },
  {
   "cell_type": "code",
   "execution_count": null,
   "metadata": {},
   "outputs": [],
   "source": [
    "for n in np.arange(0, number_of_articles):\n",
    "    \n",
    "    # only news articles (there are also albums and other things)\n",
    "    if \"inenglish\" not in coverpage_news[n].find('a')['href']:  \n",
    "        continue\n",
    "    \n",
    "    # Getting the link of the article\n",
    "    link = coverpage_news[n].find('a')['href']\n",
    "    list_links.append(link)\n",
    "    \n",
    "    # Getting the title\n",
    "    title = coverpage_news[n].find('a').get_text()\n",
    "    list_titles.append(title)\n",
    "    \n",
    "    # Reading the content (it is divided in paragraphs)\n",
    "    article = requests.get(link)\n",
    "    article_content = article.content\n",
    "    soup_article = BeautifulSoup(article_content, 'html5lib')\n",
    "    body = soup_article.find_all('div', class_='articulo-cuerpo')\n",
    "    x = body[0].find_all('p')\n",
    "    \n",
    "    # Unifying the paragraphs\n",
    "    list_paragraphs = []\n",
    "    for p in np.arange(0, len(x)):\n",
    "        paragraph = x[p].get_text()\n",
    "        list_paragraphs.append(paragraph)\n",
    "        final_article = \" \".join(list_paragraphs)\n",
    "        \n",
    "    news_contents.append(final_article)"
   ]
  },
  {
   "cell_type": "code",
   "execution_count": null,
   "metadata": {},
   "outputs": [],
   "source": []
  },
  {
   "cell_type": "code",
   "execution_count": null,
   "metadata": {},
   "outputs": [],
   "source": []
  },
  {
   "cell_type": "code",
   "execution_count": null,
   "metadata": {},
   "outputs": [],
   "source": []
  }
 ],
 "metadata": {
  "kernelspec": {
   "display_name": "Python 3",
   "language": "python",
   "name": "python3"
  },
  "language_info": {
   "codemirror_mode": {
    "name": "ipython",
    "version": 3
   },
   "file_extension": ".py",
   "mimetype": "text/x-python",
   "name": "python",
   "nbconvert_exporter": "python",
   "pygments_lexer": "ipython3",
   "version": "3.8.3"
  }
 },
 "nbformat": 4,
 "nbformat_minor": 4
}
